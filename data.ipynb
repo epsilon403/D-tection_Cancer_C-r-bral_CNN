{
 "cells": [
  {
   "cell_type": "code",
   "execution_count": null,
   "id": "81c5638d",
   "metadata": {},
   "outputs": [],
   "source": [
    "import os\n",
    "\n",
    "allowed_ext = ('jpeg', 'jpg', 'bmp', 'png')\n",
    "path = 'Data'\n",
    "\n",
    "try:\n",
    "    all_files = os.listdir(path)\n",
    "    image_files = [f for f in all_files if f.endswith(allowed_ext)]\n",
    "    \n",
    "except Exception as e:\n",
    "    print(f\"Error: {e}\")\n"
   ]
  },
  {
   "cell_type": "code",
   "execution_count": null,
   "id": "d2b8cd3a",
   "metadata": {},
   "outputs": [],
   "source": []
  }
 ],
 "metadata": {
  "kernelspec": {
   "display_name": ".venv (3.12.3)",
   "language": "python",
   "name": "python3"
  },
  "language_info": {
   "codemirror_mode": {
    "name": "ipython",
    "version": 3
   },
   "file_extension": ".py",
   "mimetype": "text/x-python",
   "name": "python",
   "nbconvert_exporter": "python",
   "pygments_lexer": "ipython3",
   "version": "3.12.3"
  }
 },
 "nbformat": 4,
 "nbformat_minor": 5
}
